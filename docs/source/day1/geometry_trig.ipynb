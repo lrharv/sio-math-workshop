{
 "cells": [
  {
   "cell_type": "markdown",
   "id": "b36fe48a",
   "metadata": {},
   "source": [
    "# Units/Geometry/Trig"
   ]
  },
  {
   "cell_type": "markdown",
   "id": "e17645fc",
   "metadata": {},
   "source": [
    "## Dimensional Analysis\n",
    "\n",
    ".. toctree::\n",
    "    :hidden:\n",
    "\n",
    "Dimensional analysis is the process of tracking the base dimensions and their units in the different quantities in a mathematical expression as we do calculations with them. This can be as simple as converting a quantity from one unit to another, but gets more complicated when we have multiple quantities, sometimes in uncompatible units, within an expression."
   ]
  },
  {
   "cell_type": "markdown",
   "id": "7c64b2cb",
   "metadata": {},
   "source": [
    "### Base Quantities and Units\n",
    "\n",
    "There are [7 base quantites](https://www.bipm.org/en/measurement-units/si-base-units) in the International System of Units (SI). __Time__, __length__, and __mass__ are likely the most familiar and show up frequently in Earth Sciences, along with __temperature__, and __amount of substance__ (more for biology and chemistry applications)"
   ]
  },
  {
   "cell_type": "markdown",
   "id": "6e0a8f54",
   "metadata": {},
   "source": [
    "| Base quantity              | Typical symbol | Base unit | Symbol | Alternate Units |\n",
    "|----------------------------|----------------|-----------|--------|-----------------|\n",
    "| ==time==                   | *t*            | second    | s      | minute, hour, day, year |\n",
    "| length                     | *l, x, r, etc.*| meter     | m      | foot, mile |\n",
    "| mass                       | *m*            | kilogram  | kg     | pound |\n",
    "| electric current           | *I, i*         | ampere    | A      | |\n",
    "| thermodynamic temperature  | *T*            | kelvin    | K      | celcius (ºC), fahrenheit (ºF) |\n",
    "| amount of substance        | *n*            | mole      | mol    | |\n",
    "| luminous intensity         | *Iᵥ*           | candela   | cd     | |\n"
   ]
  },
  {
   "cell_type": "markdown",
   "id": "c4b37175",
   "metadata": {},
   "source": [
    "#### SI Prefixes\n",
    "\n",
    "The SI system has a helpful system of prefixes that expands upon base units (and others), allowing us to easily express something like \"thousands of meters\" without having to pull out scientific notation or extra words. You are likely familiar with a few common ones: \"kilo-\" for thousands (a kilometer is a thousand meters, a kilogram is a thousand grams), \"centi-\" for hundredths (a centimeter is a hundredth of a meter), etc. Below is a shortened version of [this table](https://www.nist.gov/pml/owm/metric-si-prefixes) with the prefixes I've seen in Earth sciences, but the table extends on both sides if you need very small or very large units."
   ]
  },
  {
   "cell_type": "markdown",
   "id": "accb48e0",
   "metadata": {},
   "source": [
    "| Factor      | Name     | Symbol |\n",
    "|-------------|----------|--------|\n",
    "| \\(10^{12}\\) | tera     | T      |\n",
    "| \\(10^{9}\\)  | giga     | G      |\n",
    "| \\(10^{6}\\)  | mega     | M      |\n",
    "| \\(10^{3}\\)  | kilo     | k      |\n",
    "| \\(10^{2}\\)  | hecto    | h      |\n",
    "| \\(10^{1}\\)  | deca     | da     |\n",
    "| \\(10^{-1}\\) | deci     | d      |\n",
    "| \\(10^{-2}\\) | centi    | c      |\n",
    "| \\(10^{-3}\\) | milli    | m      |\n",
    "| \\(10^{-6}\\) | micro    | µ      |\n",
    "| \\(10^{-9}\\) | nano     | n      |\n",
    "| \\(10^{-12}\\)| pico     | p      |\n",
    "\n"
   ]
  },
  {
   "cell_type": "markdown",
   "id": "65267bed",
   "metadata": {},
   "source": [
    "#### Time\n",
    "\n",
    "Time conversions are the simplest, as people typically have the relationship between different units memorized. We know there are 60 seconds in a minute, 60 minutes in an hour, 24(ish) hours in a day, and 365 (ish) days in a year. Be aware that it gets more complicated when we work with data and need to be more exact in our conversions (not ignoring leap years and such). Programming languages typically have built-in functions to help with working with date/time data, as described [here for Matlab](https://www.mathworks.com/help/matlab/date-and-time-operations.html) and [here for Python](https://docs.python.org/3/library/datetime.html)\n",
    "\n",
    "##### Some Common Considerations\n",
    "\n",
    "Depending on when the data was recorded and what instrament it comes from, the __epoch__, aka the time that is considered \"time 0\" in your timeseries, can vary. It is easiest if you are given this information with the dataset, but in a worst-case scenario you can do some quick calculations or try a few common epochs in your data analysis to see which produces the correct result."
   ]
  },
  {
   "cell_type": "markdown",
   "id": "b8e4f891",
   "metadata": {},
   "source": [
    "#### Length\n",
    "\n",
    "In science, length is almost always measured in meters or some order of meters (millimeters, kilometers) which makes our lives easier! However, we sometimes need to convert/estimate distances in kilometers from latitude or longitude, which we will discuss later."
   ]
  },
  {
   "cell_type": "markdown",
   "id": "911f146e",
   "metadata": {},
   "source": [
    "#### Mass\n",
    "\n",
    "Do i have anything to say about mass?? "
   ]
  },
  {
   "cell_type": "markdown",
   "id": "d6d0123f",
   "metadata": {},
   "source": [
    "#### Temperature\n",
    "\n",
    "The base SI unit is Kelvin, which is measured in the same increments as degrees Celsius, but with 0 K as absolute zero (no thermal energy). Because it is an absolute scale, we don't say \"degrees Kelvin\" or \"ºK\" as we do with ºC or ºF. Despite K being the base SI unit, Celsius is used more frequently in many fields.\n",
    "\n",
    "To convert between Celsius and Kelvin, we simply add or subtract 273.15: __temp_C = temp_K - 273.25__\n",
    "\n",
    "Fahrenheit is a bit more complicated since 100ºF was defined approximately at human body temperature (making it great for day to day use, but messy for science), instead of Celsius' more concrete 0ºC and 100ºC as where water melts and evaporates. \n",
    "\n",
    "However, we still have an exact conversion: __temp_C = 5/9 * (temp_F - 32)__\n",
    "\n",
    "If you're from the US or another Fahrenheit-using country, you may find it difficult to conceptualize what temperatures in Celcius mean. I find it useful to look at plots where temperature is labeled in both units, such as the one below of Scripps Pier water temperature in 2025."
   ]
  },
  {
   "cell_type": "markdown",
   "id": "bf5f2da6",
   "metadata": {},
   "source": [
    "<img src=\"https://shorestations.ucsd.edu/plots/SIO_surf_daily.png\" alt=\"Scripps Pier 2025 Surface Temp\" width=\"800\"/>"
   ]
  },
  {
   "cell_type": "markdown",
   "id": "75d8fefd",
   "metadata": {},
   "source": [
    "### Derived Quanities\n",
    "\n",
    "Derived quantities are formed from combinations of the base quantities. Some common ones are:\n",
    "\n",
    "__Geometric Quantities: Only length__\n",
    "\n",
    "\\[Area] =  length^2  = $m^2$\n",
    "\n",
    "\\[Volume] =  length^3  = $m^3$\n",
    "\n",
    "__Kinematic Quantities: Only length and time__\n",
    "\n",
    "\\[Velocity/Speed] =  length / time  = $m/s$\n",
    "\n",
    "\\[Acceleration] =  length / time^2  = $m/s^2$\n",
    "\n",
    "__Dynamic Quantites: Only length, time, and mass__\n",
    "\n",
    "\\[Force] =  mass * length / time^2  = $kg*m/s^2$ = $N$ (Newtons)\n",
    "\n",
    "\\[Pressure] =  force / area  = $N / m^2$ = $Pa$ (Pascals)\n",
    "\n",
    "_(In this notation, the brackets \\[ ] in \\[quantity] means \"units of\" or \"dimensions of\" that quantity. Use of this notation varies, see [here](https://physics.stackexchange.com/a/77691) for an in-depth discussion and examples of other ways you may see dimensions indicated in your courses)_ "
   ]
  },
  {
   "cell_type": "markdown",
   "id": "10de771a",
   "metadata": {},
   "source": [
    "### Common Quanitities in Earth Sciences\n",
    "\n",
    "Here we'll discuss some quantities you'll run into in Earth sciences and their units.\n",
    "\n",
    "#### Density\n",
    "Density is defined as mass per unit volume, typically written as $\\rho$ (rho) and given in $kg/m^3$. It is highly relevant in atmosphere and ocean dynamics, and will be discussed at length in SIO 210. Density can be calculated from an empirical \"equation of state\" (EOS), which looks something like this: $\\rho = \\rho (S,T,p)$ (aka density is a function of the quantites in parenthesis). \n",
    "\n",
    "For oceanography, seawater density typically has values ranging from $1020$ to $1030$ $kg/m^3$ (freshwater has density $1000 kg/m^3$ at $4ºC$ by definition, and dissolved salts in the ocean increase density slightly). You may also see density values ranging from 20 to 30 instead, when the density of freshwater (1000) has been subtracted. Density in the ocean is a function of salinity, temperature, and pressure ($\\rho = \\rho (S,T,p)$).\n",
    "\n",
    "For atmospheric science, density near sea level is around $1 kg/m^3$, and falls off with increasing altitude. \n",
    "Density in the atmosphere is a function of salinity, temperature, pressure, and moisture.\n",
    "\n",
    "#### Pressure\n",
    "\n",
    "Pressure, as mentioned above, is force per unit area\n",
    "\n",
    "#### Salinity\n",
    "\n",
    "\n",
    "what do marine bio/chem people need to know? ph, molar units, partial pressure,\n",
    "insert silly meme/pic about the different ways professors write rho?"
   ]
  },
  {
   "cell_type": "markdown",
   "id": "b97596d5",
   "metadata": {},
   "source": [
    "### Unit Conversion Examples\n",
    "\n",
    "one degree is about 111 km, we will show where this number comes from later after discussing trigonometry"
   ]
  },
  {
   "cell_type": "markdown",
   "id": "2ec04196",
   "metadata": {},
   "source": [
    "### Dimensionless Numbers\n",
    "\n"
   ]
  },
  {
   "cell_type": "markdown",
   "id": "e3b5c5da",
   "metadata": {},
   "source": [
    "## Trigonometry\n",
    "\n",
    "angles. triangles. trig functions"
   ]
  },
  {
   "cell_type": "markdown",
   "id": "737f5763",
   "metadata": {},
   "source": [
    "### Right Triangles and Trigonometric Functions\n",
    "\n",
    "blah blah\n",
    "SOH CAH TOA\n",
    "can i embed desmos lol. or make like interactive python plot of triangle (with like angles shown and trig function values??)\n",
    "\n"
   ]
  },
  {
   "cell_type": "markdown",
   "id": "55c8567c",
   "metadata": {},
   "source": [
    "### The Unit Circle\n",
    "\n",
    "intro blerb\n",
    "unit circle image obvs\n"
   ]
  },
  {
   "cell_type": "markdown",
   "id": "4c033a5f",
   "metadata": {},
   "source": [
    "### General Triangles\n",
    "what if it didnt have a 90 degree angle"
   ]
  },
  {
   "cell_type": "markdown",
   "id": "b0751678",
   "metadata": {},
   "source": [
    "#### Law of Sines"
   ]
  },
  {
   "cell_type": "markdown",
   "id": "caa2e2d7",
   "metadata": {},
   "source": [
    "#### Law of Cosines"
   ]
  }
 ],
 "metadata": {
  "language_info": {
   "name": "python"
  }
 },
 "nbformat": 4,
 "nbformat_minor": 5
}
